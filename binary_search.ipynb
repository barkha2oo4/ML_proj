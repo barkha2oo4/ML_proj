{
  "nbformat": 4,
  "nbformat_minor": 0,
  "metadata": {
    "colab": {
      "provenance": []
    },
    "kernelspec": {
      "name": "python3",
      "display_name": "Python 3"
    },
    "language_info": {
      "name": "python"
    }
  },
  "cells": [
    {
      "cell_type": "code",
      "execution_count": null,
      "metadata": {
        "colab": {
          "base_uri": "https://localhost:8080/"
        },
        "id": "Lpi_J0nOGXdk",
        "outputId": "cab84039-55c9-4236-cf2a-d23e4dc3a366"
      },
      "outputs": [
        {
          "output_type": "stream",
          "name": "stdout",
          "text": [
            "Enter the number of elements in the list: 3\n",
            "enter the number: 4\n",
            "enter the number:  8\n",
            "enter the number: 6\n",
            "[4, 8, 6]\n",
            "[4, 6, 8]\n",
            "Enter the numner which you want to find in array: 6\n",
            "6 is present in index  1\n"
          ]
        }
      ],
      "source": [
        "l=[]\n",
        "n=int(input(\"Enter the number of elements in the list: \"))\n",
        "for i in range(n):\n",
        "  l.append(int(input(\"enter the number: \")))\n",
        "print(l)\n",
        "l.sort()\n",
        "print(l)\n",
        "def binary_search(l,num):\n",
        "  low= 0\n",
        "  high = len(l)-1\n",
        "  mid= 0\n",
        "  while(low<=high):\n",
        "    mid=(low+high)//2\n",
        "    if l[mid]> num :\n",
        "      high=mid-1\n",
        "    elif l[mid]==num:\n",
        "      return mid\n",
        "    elif l[mid]< num :\n",
        "      low=mid+1\n",
        "      return -19\n",
        "a=int(input(\"Enter the numner which you want to find in array: \"))\n",
        "print(a,\"is present in index \",binary_search(l,a))\n"
      ]
    },
    {
      "cell_type": "code",
      "source": [
        "\n",
        "def bubbleSort(A):\n",
        "\tfor i in range(length):\n",
        "\t\tfor j in range(0,length-i-1):\n",
        "\t\t\tif A[j]>A[j+1]:\n",
        "\t\t\t\tA[j],A[j+1]=A[j+1],A[j]\n",
        "mylist=input(\"Enter the list of numbers: \").split()\n",
        "A=[int(i) for i in mylist]\n",
        "length=len(A)\n",
        "bubbleSort(A)\n",
        "print(\"Sorted list:\",A)"
      ],
      "metadata": {
        "id": "ekioie3yVNJ7"
      },
      "execution_count": null,
      "outputs": []
    },
    {
      "cell_type": "code",
      "source": [
        "size=int(input(\"Enter size of list: \"))\n",
        "store=[]\n",
        "for i in range(size):\n",
        "\telement=int(input(\"Enter your number: \"))\n",
        "\tstore.append(element)\n",
        "store.sort()\n",
        "print(\"After sorting list is: \",store)\n",
        "length=len(store)\n",
        "low=0\n",
        "high=length-1\n",
        "value=int(input(\"The number to search for: \"))\n",
        "loc=-1\n",
        "while(low<=high):\n",
        "\tmid=(low+high)//2\n",
        "\tif value==store[mid]:\n",
        "\t\tloc=mid+1\n",
        "\t\tbreak\n",
        "\telif value>store[mid]:\n",
        "\t\tlow=mid+1\n",
        "\telif value<store[mid]:\n",
        "\t\thigh=mid-1\n",
        "\t\tlow=0\n",
        "if loc!=-1:\n",
        "\tprint(value,\"was found at index\",str(loc-1)+'.')"
      ],
      "metadata": {
        "id": "VfayPM6pKiYR"
      },
      "execution_count": null,
      "outputs": []
    },
    {
      "cell_type": "code",
      "source": [
        "#Your code goes here\n",
        "from math import pi\n",
        "radius= float(input())\n",
        "area=pi*radius*radius\n",
        "print(area)"
      ],
      "metadata": {
        "id": "_d8jHCigVUG-",
        "colab": {
          "base_uri": "https://localhost:8080/"
        },
        "outputId": "626cd22e-0806-4823-dd6d-5049a89bec9b"
      },
      "execution_count": null,
      "outputs": [
        {
          "output_type": "stream",
          "name": "stdout",
          "text": [
            "4\n",
            "50.26548245743669\n"
          ]
        }
      ]
    },
    {
      "cell_type": "code",
      "source": [
        "a=int(input( \"Number:  \"))\n",
        "reverse=0\n",
        "temp=a\n",
        "while(a!=0):\n",
        "  remainder= a%10\n",
        "  reverse =reverse*10+remainder\n",
        "  a=a//10\n",
        "while(a==0):\n",
        "    remainder= a//10\n",
        "    reverse =remainder*10+reverse\n",
        "    a=a%10\n",
        "if(temp==reverse):\n",
        "  print(\"Palindrome\")\n",
        "else:\n",
        "  print(\"not palindrome\")"
      ],
      "metadata": {
        "colab": {
          "base_uri": "https://localhost:8080/"
        },
        "id": "IIoHI3cBMNql",
        "outputId": "9e087db1-43a1-4885-8979-03bdcacbd953"
      },
      "execution_count": null,
      "outputs": [
        {
          "name": "stdout",
          "output_type": "stream",
          "text": [
            "Number:  121\n"
          ]
        }
      ]
    },
    {
      "cell_type": "code",
      "source": [
        "choice =\"yes\"\n",
        "sum=0\n",
        "while (choice==\"yes\"):\n",
        "  number=int(input())\n",
        "  if number%4==0:\n",
        "    sum+= number\n",
        "    print(sum)\n",
        "choice=int(input(\"Do you want to continue: \")).lower()\n",
        "print(sum)"
      ],
      "metadata": {
        "id": "tV8Cp1AxQQcb"
      },
      "execution_count": null,
      "outputs": []
    },
    {
      "cell_type": "code",
      "source": [
        "def temp_conv(temp):\n",
        "   c= (temp-32)*(5/9)\n",
        "   return c\n",
        "try:\n",
        "    print(temp(int(input(\"Enter the temperature: \")))\n",
        "except:\n",
        "    print(\"eror\")"
      ],
      "metadata": {
        "id": "d6VJCae7izKs"
      },
      "execution_count": null,
      "outputs": []
    }
  ]
}